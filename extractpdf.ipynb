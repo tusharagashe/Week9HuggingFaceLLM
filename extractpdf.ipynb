{
 "cells": [
  {
   "cell_type": "code",
   "execution_count": 3,
   "metadata": {},
   "outputs": [],
   "source": [
    "import PyPDF2\n",
    "\n",
    "def extract_text_from_pdf(pdf_path):\n",
    "        text = \"\"\n",
    "        with open(pdf_path, 'rb') as pdf_file:\n",
    "            pdf_reader = PyPDF2.PdfReader(pdf_file)\n",
    "            for page_num in range(len(pdf_reader.pages)):\n",
    "                page = pdf_reader.pages[page_num]\n",
    "                text += page.extract_text()\n",
    "        return text\n"
   ]
  },
  {
   "cell_type": "code",
   "execution_count": null,
   "metadata": {},
   "outputs": [],
   "source": [
    "ocrevus_text = extract_text_from_pdf('8.pdf')\n",
    "secret = \"\""
   ]
  },
  {
   "cell_type": "code",
   "execution_count": 5,
   "metadata": {},
   "outputs": [
    {
     "name": "stdout",
     "output_type": "stream",
     "text": [
      "Based on the provided FDA Clinical Pharmacology and Biopharmaceutics Review for Ocrelizumab (OCREVUS), here are the answers to your four questions:\n",
      "\n",
      "### **i. Exposure-Safety Analyses Conducted to Support Dose Selection**  \n",
      "- **Key Findings**: The exposure-safety assessment evaluated relationships between ocrelizumab exposure and adverse events (AEs) such as **serious adverse events (SAEs), serious infections (SIs), and infusion-related reactions (IRRs)**.  \n",
      "  - No clear exposure-safety relationship was observed for **SAEs or SIs** across exposure quartiles at the **600 mg dose** in RMS or PPMS trials.  \n",
      "  - For **IRRs**, the rate was not significantly higher with increased exposure in the **600 mg group**, though the **1000 mg regimen** (from Phase 2) showed a numerically higher incidence.  \n",
      "  - **Conclusion**: Safety profiles were comparable across exposure ranges at 600 mg, supporting the proposed dose.  \n",
      "\n",
      "### **ii. Exposure-Efficacy Analyses Conducted to Support Dose Selection**  \n",
      "- **Key Findings**:  \n",
      "  - **RMS**: No correlation was found between ocrelizumab exposure and **annualized relapse rate (ARR, primary endpoint)**. However, a trend suggested **greater risk reduction in disability progression (12/24-week CDP, secondary endpoints)** with higher exposure.  \n",
      "  - **PPMS**: Patients with the **highest exposure quartile** showed a greater reduction in **12-week confirmed disability progression (CDP, primary endpoint)** compared to placebo.  \n",
      "  - **Limitation**: Only a single dose (600 mg) was tested in Phase 3, limiting the ability to establish robust exposure-response relationships or identify a more optimal dose.  \n",
      "  - **Conclusion**: The 600 mg dose demonstrated efficacy across exposure ranges, but no exposure-response relationship was definitively established due to lack of dose-ranging data.\n",
      "\n",
      "### **iii. Post-Marketing Requirements or Commitments Related to Dose Selection**  \n",
      "- **Findings**:  \n",
      "  - The document states: **\"None.\"**  \n",
      "  - No post-marketing requirements (PMRs) or commitments (PMCs) were requested concerning dose selection.  \n",
      "  - The FDA accepted the proposed **600 mg every 6 months** regimen without mandating further dose optimization studies.\n",
      "\n",
      "### **iv. Maximum Tolerated Dose (MTD)**  \n",
      "- **Findings**:  \n",
      "  - The **MTD was not explicitly defined** in Phase 1/2 studies, but doses up to **2×1000 mg (2000 mg total)** were tested in RA patients without reaching dose-limiting toxicity.  \n",
      "  - In Phase 2 MS trials (WA21493), **600 mg and 2000 mg** were compared, with no significant safety differences.  \n",
      "  - **Clinical Implication**: The **600 mg dose** was selected for Phase 3 due to comparable efficacy and safety to higher doses, not because higher doses were intolerable. Thus, the MTD likely exceeds the highest tested dose (2000 mg).  \n",
      "\n",
      "---\n",
      "\n",
      "### **Summary Table**  \n",
      "| **Topic**                          | **Key Findings**                                                                 |\n",
      "|------------------------------------|---------------------------------------------------------------------------------|\n",
      "| **Exposure-Safety**               | No dose-dependent safety trends for SAEs/SIs/IRRs at 600 mg; 1000 mg had higher IRR rates. |\n",
      "| **Exposure-Efficacy**             | No ARR-exposure link (RMS); higher exposure linked to reduced CDP (PPMS). Limited by single-dose Phase 3 data. |\n",
      "| **Post-Marketing Requirements**   | None specified for dose selection.                                              |\n",
      "| **Maximum Tolerated Dose (MTD)** | Not formally defined; up to 2000 mg tested without dose-limiting toxicity.      |\n",
      "\n",
      "The review supports the **600 mg dose** but acknowledges limitations in exposure-response analyses due to the lack of dose-ranging in Phase 3. No additional studies were required post-approval.\n"
     ]
    }
   ],
   "source": [
    "import requests\n",
    "\n",
    "API_URL = \"https://router.huggingface.co/fireworks-ai/inference/v1/chat/completions\"\n",
    "headers = {\"Authorization\": secret}\n",
    "\n",
    "\n",
    "def query(payload):\n",
    "    response = requests.post(API_URL, headers=headers, json=payload)\n",
    "    return response.json()\n",
    "\n",
    "response = query({\n",
    "    \"messages\": [\n",
    "        {\n",
    "            \"role\": \"user\",\n",
    "            \"content\": \"\"\"\n",
    "                  I will give you a SBA document from the FDA and you must tell do/answer the following four things: \n",
    "                  i.\tExposure-safety analyses conducted to support dose selection i\n",
    "                  i.\tExposure-efficacy analyses conducted to support dose selection \n",
    "                  iii.\tPost-marketing requirements or post-marketing commitments related to dose selection \n",
    "                  iv.\tWhat is the Maximum Tolerated Dose (MTD)?\n",
    "                  \n",
    "                  Here is the SBA document for the drug: \n",
    "                  \"\"\"\n",
    "                  + ocrevus_text\n",
    "        }\n",
    "    ],\n",
    "    \"model\": \"accounts/fireworks/models/deepseek-v3-0324\"\n",
    "})\n",
    "\n",
    "print(response[\"choices\"][0][\"message\"]['content'])"
   ]
  },
  {
   "cell_type": "code",
   "execution_count": 6,
   "metadata": {},
   "outputs": [
    {
     "name": "stdout",
     "output_type": "stream",
     "text": [
      "The FDA review for ocrelizumab (OCREVUS) assessed exposure-safety and exposure-efficacy analyses to support the 600 mg dose selection. For safety, no clear relationship was found between ocrelizumab exposure and serious adverse events (SAEs), serious infections (SIs), or infusion-related reactions (IRRs) at the 600 mg dose in RMS and PPMS trials, though a higher IRR incidence was noted with the 1000 mg regimen in Phase 2. Efficacy analyses revealed no exposure-response link for annualized relapse rate (ARR) in RMS, but higher exposure correlated with reduced disability progression (CDP) in PPMS. A key limitation was the lack of dose-ranging data in Phase 3, preventing robust exposure-response conclusions. No post-marketing requirements were imposed for dose selection. Regarding the maximum tolerated dose (MTD), while not formally defined, doses up to 2000 mg were tested without dose-limiting toxicity, confirming that the 600 mg dose was chosen based on comparable efficacy and safety rather than tolerability constraints. Overall, the review supports the 600 mg dose but highlights gaps in exposure-response data due to the absence of varied dosing in Phase 3. No further dose-optimization studies were required post-approval.  \n",
      "\n",
      "**(200 words)**\n"
     ]
    }
   ],
   "source": [
    "summary = query({\n",
    "    \"messages\": [\n",
    "        {\n",
    "            \"role\": \"user\",\n",
    "            \"content\": \"Summarize what you extracted before into a 200 word paragraph\" + response[\"choices\"][0][\"message\"]['content']\n",
    "        }\n",
    "    ],\n",
    "    \"model\": \"accounts/fireworks/models/deepseek-v3-0324\"\n",
    "})\n",
    "\n",
    "print(summary[\"choices\"][0][\"message\"]['content'])"
   ]
  }
 ],
 "metadata": {
  "kernelspec": {
   "display_name": "cdd203",
   "language": "python",
   "name": "python3"
  },
  "language_info": {
   "codemirror_mode": {
    "name": "ipython",
    "version": 3
   },
   "file_extension": ".py",
   "mimetype": "text/x-python",
   "name": "python",
   "nbconvert_exporter": "python",
   "pygments_lexer": "ipython3",
   "version": "3.8.20"
  }
 },
 "nbformat": 4,
 "nbformat_minor": 2
}
